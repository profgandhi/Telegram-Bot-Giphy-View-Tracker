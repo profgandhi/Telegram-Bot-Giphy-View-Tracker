{
 "cells": [
  {
   "cell_type": "code",
   "execution_count": 3,
   "metadata": {},
   "outputs": [],
   "source": [
    "from selenium import webdriver\n",
    "from selenium.webdriver.chrome.options import Options\n",
    "from selenium.webdriver.common.by import By\n",
    "import time\n",
    "import pandas as pd\n",
    "import asyncio\n",
    "from abc import ABC,abstractmethod\n",
    "from bs4 import BeautifulSoup "
   ]
  },
  {
   "cell_type": "code",
   "execution_count": null,
   "metadata": {},
   "outputs": [],
   "source": [
    "class BOT(ABC):\n",
    "    '''\n",
    "    Abstract method for selenium bot\n",
    "    '''\n",
    "    @abstractmethod\n",
    "    def target_html() -> str:\n",
    "        pass\n",
    "\n",
    "\n",
    "class GiphyBot(BOT):\n",
    "    '''\n",
    "    Clicks on ith registered Property and returns HTML\n",
    "    '''\n",
    "    def __init__(self,project_id):\n",
    "        self.url = f'https://giphy.com/gifs/{project_id}'\n",
    "    async def target_html(self):\n",
    "        print('Start')\n",
    "        options = Options()\n",
    "        options.add_argument('--headless=new')\n",
    "        browser = webdriver.Chrome(options=options)\n",
    "        browser.get(self.url)\n",
    "        html = browser.page_source\n",
    "        print(html)\n",
    "        browser.quit()\n",
    "\n",
    "        return html"
   ]
  },
  {
   "cell_type": "code",
   "execution_count": null,
   "metadata": {},
   "outputs": [],
   "source": [
    "def parse_html(html):\n",
    "    soup = BeautifulSoup(html, 'html.parser')\n",
    "    div = soup.find(\"div\", {\"class\": 'ViewCountContainer-sc-15ri43l hCQudc ss-view'})\n",
    "    views = int(div.text.split(\" \")[0].replace(\",\",''))\n",
    "    return views"
   ]
  },
  {
   "cell_type": "code",
   "execution_count": 23,
   "metadata": {},
   "outputs": [
    {
     "name": "stdout",
     "output_type": "stream",
     "text": [
      "\n",
      "\n"
     ]
    }
   ],
   "source": [
    "print('\\n')"
   ]
  },
  {
   "cell_type": "code",
   "execution_count": null,
   "metadata": {},
   "outputs": [],
   "source": []
  }
 ],
 "metadata": {
  "kernelspec": {
   "display_name": "Python 3",
   "language": "python",
   "name": "python3"
  },
  "language_info": {
   "codemirror_mode": {
    "name": "ipython",
    "version": 3
   },
   "file_extension": ".py",
   "mimetype": "text/x-python",
   "name": "python",
   "nbconvert_exporter": "python",
   "pygments_lexer": "ipython3",
   "version": "3.10.7"
  }
 },
 "nbformat": 4,
 "nbformat_minor": 2
}
